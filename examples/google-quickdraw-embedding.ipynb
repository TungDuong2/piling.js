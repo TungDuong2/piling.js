{
 "cells": [
  {
   "cell_type": "markdown",
   "metadata": {},
   "source": [
    "# Google Quick Draw Embedding"
   ]
  },
  {
   "cell_type": "code",
   "execution_count": 1,
   "metadata": {},
   "outputs": [],
   "source": [
    "%load_ext autoreload\n",
    "%autoreload 2\n",
    "%matplotlib inline"
   ]
  },
  {
   "cell_type": "code",
   "execution_count": 2,
   "metadata": {},
   "outputs": [],
   "source": [
    "data_dir = 'data'\n",
    "name = 'teapot'\n",
    "out_size = 64\n",
    "umap_neighborhood = 0.0002 # half-promille\n",
    "num_stroke_percentile_cutoff = [1.5, 98.5]\n",
    "stroke_len_percentile_cutoff = [1.5, 98.5]"
   ]
  },
  {
   "cell_type": "code",
   "execution_count": 3,
   "metadata": {},
   "outputs": [],
   "source": [
    "import ndjson\n",
    "\n",
    "with open(f'{data_dir}/{name}.ndjson') as f:\n",
    "    data = ndjson.load(f)"
   ]
  },
  {
   "cell_type": "markdown",
   "metadata": {},
   "source": [
    "## Draw Sketches"
   ]
  },
  {
   "cell_type": "code",
   "execution_count": 4,
   "metadata": {},
   "outputs": [
    {
     "name": "stdout",
     "output_type": "stream",
     "text": [
      "Draw 126804 sketches...\n",
      "...drew 10000 sketches in 8.1 secs\n",
      "...drew 10000 sketches in 8.0 secs\n",
      "...drew 10000 sketches in 8.0 secs\n",
      "...drew 10000 sketches in 8.0 secs\n",
      "...drew 10000 sketches in 8.0 secs\n",
      "...drew 10000 sketches in 8.0 secs\n",
      "...drew 10000 sketches in 8.1 secs\n",
      "...drew 10000 sketches in 8.0 secs\n",
      "...drew 10000 sketches in 7.9 secs\n",
      "...drew 10000 sketches in 8.1 secs\n",
      "...drew 10000 sketches in 8.7 secs\n",
      "...drew 10000 sketches in 8.1 secs\n",
      "Done drawing in 1.7 min\n"
     ]
    }
   ],
   "source": [
    "import numpy as np\n",
    "from skimage.draw import line_aa\n",
    "import time\n",
    "\n",
    "in_size = 256\n",
    "out_max = out_size - 1\n",
    "scaling = out_size / in_size\n",
    "\n",
    "sketches = np.zeros((len(data), out_size, out_size), dtype=np.float64)\n",
    "\n",
    "print(f'Draw {len(data)} sketches...')\n",
    "\n",
    "t = time.time()\n",
    "t0 = t\n",
    "o = 10000\n",
    "for s, sketch in enumerate(data):\n",
    "    if s % o == o - 1:\n",
    "        print(f'...drew {o} sketches in {(time.time()-t):.1f} secs')\n",
    "        t = time.time()\n",
    "    for stroke in sketch['drawing']:\n",
    "        xs, ys = stroke\n",
    "        for k in np.arange(1, len(xs)):            \n",
    "            i, j, val = line_aa(\n",
    "                min(out_max, round(ys[k-1] * scaling)),\n",
    "                min(out_max, round(xs[k-1] * scaling)),\n",
    "                min(out_max, round(ys[k] * scaling)),\n",
    "                min(out_max, round(xs[k] * scaling))\n",
    "            ) # i0, j0, i1, j1\n",
    "            sketches[s][i,j] += val\n",
    "\n",
    "print(f'Done drawing in {((time.time() - t0) / 60):.1f} min')\n",
    "\n",
    "sketches_flat = np.clip(sketches.reshape((sketches.shape[0], -1)), 0, 1)"
   ]
  },
  {
   "cell_type": "code",
   "execution_count": 5,
   "metadata": {},
   "outputs": [
    {
     "data": {
      "text/plain": [
       "<matplotlib.image.AxesImage at 0x332cab9d0>"
      ]
     },
     "execution_count": 5,
     "metadata": {},
     "output_type": "execute_result"
    },
    {
     "data": {
      "image/png": "[encoded data removed]",
      "text/plain": [
       "<Figure size 432x288 with 1 Axes>"
      ]
     },
     "metadata": {
      "needs_background": "light"
     },
     "output_type": "display_data"
    }
   ],
   "source": [
    "from skimage import io\n",
    "\n",
    "io.imshow(sketches_flat[3].reshape((out_size, out_size)))"
   ]
  },
  {
   "cell_type": "markdown",
   "metadata": {},
   "source": [
    "## Filter Data"
   ]
  },
  {
   "cell_type": "code",
   "execution_count": 6,
   "metadata": {},
   "outputs": [
    {
     "data": {
      "image/png": "[encoded data removed]",
      "text/plain": [
       "<Figure size 432x288 with 1 Axes>"
      ]
     },
     "metadata": {
      "needs_background": "light"
     },
     "output_type": "display_data"
    },
    {
     "data": {
      "image/png": "[encoded data removed]",
      "text/plain": [
       "<Figure size 432x288 with 1 Axes>"
      ]
     },
     "metadata": {
      "needs_background": "light"
     },
     "output_type": "display_data"
    }
   ],
   "source": [
    "from functools import reduce\n",
    "import matplotlib.pyplot as plt\n",
    "\n",
    "stroke_stats = np.zeros((sketches_flat.shape[0], 2))\n",
    "\n",
    "for i, drawing in enumerate(data):\n",
    "    # Number of strokes\n",
    "    stroke_stats[i, 0] = len(drawing['drawing'])\n",
    "    # Length of strokes\n",
    "    stroke_stats[i, 1] = reduce(lambda a, b: a + len(b[0]), drawing['drawing'], 0) / len(drawing['drawing'])\n",
    "    \n",
    "plt.hist(stroke_stats[:, 0], bins=200)\n",
    "plt.show()\n",
    "\n",
    "plt.hist(stroke_stats[:, 1], bins=200)\n",
    "plt.show()\n",
    "\n",
    "num_stroke_lower_end = np.percentile(stroke_stats[:,0], num_stroke_percentile_cutoff[0])\n",
    "num_stroke_upper_end = np.percentile(stroke_stats[:,0], num_stroke_percentile_cutoff[1])\n",
    "stroke_len_lower_end = np.percentile(stroke_stats[:,1], stroke_len_percentile_cutoff[0])\n",
    "stroke_len_upper_end = np.percentile(stroke_stats[:,1], stroke_len_percentile_cutoff[1])"
   ]
  },
  {
   "cell_type": "code",
   "execution_count": 7,
   "metadata": {},
   "outputs": [
    {
     "name": "stdout",
     "output_type": "stream",
     "text": [
      "Preselected 119631 out of 126804\n"
     ]
    }
   ],
   "source": [
    "preselection = np.logical_and(\n",
    "    np.logical_and(stroke_stats[:,0] > num_stroke_lower_end, stroke_stats[:,0] < num_stroke_upper_end),\n",
    "    np.logical_and(stroke_stats[:,1] > stroke_len_lower_end, stroke_stats[:,1] < stroke_len_upper_end)\n",
    ")\n",
    "\n",
    "sketches_selected = sketches_flat[preselection]\n",
    "\n",
    "print(f'Preselected {preselection.sum()} out of {stroke_stats.shape[0]}')"
   ]
  },
  {
   "cell_type": "markdown",
   "metadata": {},
   "source": [
    "## Save images to file\n",
    "\n",
    "Only for offline image similarity comparison"
   ]
  },
  {
   "cell_type": "code",
   "execution_count": 9,
   "metadata": {},
   "outputs": [],
   "source": [
    "import pathlib\n",
    "pathlib.Path(f'data/google-quickdraw/{name}').mkdir(parents=True, exist_ok=True)\n",
    "\n",
    "for i, sketch in enumerate(sketches_selected):\n",
    "    img = sketch.reshape((out_size, out_size)) * 255\n",
    "    io.imsave(f'data/google-quickdraw/{name}/{i}.png', img.astype(np.uint8))"
   ]
  },
  {
   "cell_type": "markdown",
   "metadata": {},
   "source": [
    "## Compute Perceptual Distance Matrix"
   ]
  },
  {
   "cell_type": "code",
   "execution_count": null,
   "metadata": {},
   "outputs": [],
   "source": [
    "# from itertools import combinations\n",
    "# from perceptual import Metric\n",
    "\n",
    "# m = Metric()\n",
    "\n",
    "# c = combinations(range(sketches_selected.shape[0]), 2)\n",
    "# len(list(c))"
   ]
  },
  {
   "cell_type": "markdown",
   "metadata": {},
   "source": [
    "## Embed Drawings"
   ]
  },
  {
   "cell_type": "code",
   "execution_count": null,
   "metadata": {},
   "outputs": [],
   "source": [
    "from umap import UMAP\n",
    "\n",
    "n_neighbors = round(sketches_flat.shape[0] * umap_neighborhood)\n",
    "print(f'n_neighbors = {n_neighbors}', flush=True)\n",
    "embeddings = UMAP(n_neighbors=n_neighbors).fit_transform(sketches_flat)"
   ]
  },
  {
   "cell_type": "code",
   "execution_count": null,
   "metadata": {},
   "outputs": [],
   "source": [
    "import matplotlib.pyplot as plt\n",
    "\n",
    "plt.scatter(embeddings[:,0], embeddings[:,1], s=3, alpha=0.05)\n",
    "plt.title('Embedding', fontsize=24);"
   ]
  },
  {
   "cell_type": "markdown",
   "metadata": {},
   "source": [
    "## Scale Embeddings"
   ]
  },
  {
   "cell_type": "code",
   "execution_count": null,
   "metadata": {},
   "outputs": [],
   "source": [
    "from sklearn.preprocessing import MinMaxScaler\n",
    "\n",
    "scaler = MinMaxScaler((0.1, 0.9))\n",
    "scaled_embeddings = scaler.fit_transform(embeddings)"
   ]
  },
  {
   "cell_type": "code",
   "execution_count": null,
   "metadata": {},
   "outputs": [],
   "source": [
    "from functools import reduce\n",
    "import pycountry\n",
    "\n",
    "# x, y, recognized, countrycode, num_strokes, mean_stroke_length\n",
    "features = np.zeros((embeddings.shape[0], 6))\n",
    "\n",
    "features[:, 0:2] = embeddings # x, y\n",
    "\n",
    "for i, drawing in enumerate(data):\n",
    "    features[i, 2] = drawing['recognized']\n",
    "    try:\n",
    "        features[i, 3] = pycountry.countries.get(alpha_2=drawing['countrycode']).numeric\n",
    "    except AttributeError:\n",
    "        features[i, 3] = 0\n",
    "    features[i, 4] = len(drawing['drawing'])\n",
    "    features[i, 5] = reduce(lambda a, b: a + len(b[0]), drawing['drawing'], 0) / len(drawing['drawing'])\n",
    "    \n",
    "features = features[preselection]"
   ]
  },
  {
   "cell_type": "code",
   "execution_count": null,
   "metadata": {},
   "outputs": [],
   "source": [
    "from sklearn.preprocessing import MinMaxScaler\n",
    "\n",
    "features_scaled = MinMaxScaler().fit_transform(features)"
   ]
  },
  {
   "cell_type": "markdown",
   "metadata": {},
   "source": [
    "## Sub-Sample Drawings"
   ]
  },
  {
   "cell_type": "code",
   "execution_count": null,
   "metadata": {},
   "outputs": [],
   "source": [
    "from apricot import FeatureBasedSelection\n",
    "\n",
    "selector = FeatureBasedSelection(2000, concave_func='sqrt', optimizer='two-stage', n_jobs=-1, verbose=False)\n",
    "_, selection = selector.fit_transform(features_scaled, np.arange(features_scaled.shape[0]))"
   ]
  },
  {
   "cell_type": "markdown",
   "metadata": {},
   "source": [
    "## Save Data"
   ]
  },
  {
   "cell_type": "code",
   "execution_count": null,
   "metadata": {},
   "outputs": [],
   "source": [
    "import json \n",
    "\n",
    "with open('data/country-iso2-to-region.json', 'r') as f:\n",
    "    country_to_region = json.load(f)"
   ]
  },
  {
   "cell_type": "code",
   "execution_count": null,
   "metadata": {},
   "outputs": [],
   "source": [
    "import codecs \n",
    "\n",
    "out = []\n",
    "\n",
    "for i in selection:\n",
    "    try:\n",
    "        region = country_to_region[data[i]['countrycode']]\n",
    "    except KeyError:\n",
    "        region = None\n",
    "        \n",
    "    out.append({\n",
    "        'countryCode': data[i]['countrycode'],\n",
    "        'region': region,\n",
    "        'recognized': data[i]['recognized'],\n",
    "        'umapEmbedding': features_scaled[i, 0:2].tolist(),\n",
    "        'src': np.array(data[i]['drawing']).tolist(),\n",
    "    })\n",
    "\n",
    "f = codecs.open(f'{data_dir}/_{name}.json', 'w', encoding='utf-8')\n",
    "json.dump(out, f, separators=(',', ':'), sort_keys=True, indent=2)"
   ]
  },
  {
   "cell_type": "code",
   "execution_count": null,
   "metadata": {},
   "outputs": [],
   "source": []
  }
 ],
 "metadata": {
  "kernelspec": {
   "display_name": "Python 3",
   "language": "python",
   "name": "python3"
  },
  "language_info": {
   "codemirror_mode": {
    "name": "ipython",
    "version": 3
   },
   "file_extension": ".py",
   "mimetype": "text/x-python",
   "name": "python",
   "nbconvert_exporter": "python",
   "pygments_lexer": "ipython3",
   "version": "3.7.6"
  }
 },
 "nbformat": 4,
 "nbformat_minor": 4
}
