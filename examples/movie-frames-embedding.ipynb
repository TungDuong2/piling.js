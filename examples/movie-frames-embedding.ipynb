{
 "cells": [
  {
   "cell_type": "markdown",
   "metadata": {},
   "source": [
    "# Movie Frames Embedding"
   ]
  },
  {
   "cell_type": "code",
   "execution_count": 41,
   "metadata": {},
   "outputs": [],
   "source": [
    "%matplotlib inline"
   ]
  },
  {
   "cell_type": "code",
   "execution_count": 42,
   "metadata": {},
   "outputs": [],
   "source": [
    "data_dir = 'data'\n",
    "movie = 'day-night.mp4'\n",
    "fps = 1\n",
    "frame_width = 320\n",
    "frame_height = 240"
   ]
  },
  {
   "cell_type": "code",
   "execution_count": 43,
   "metadata": {},
   "outputs": [],
   "source": [
    "movie_name = movie.split('.')[0]\n",
    "frames_dir = f'{data_dir}/{movie_name}'\n",
    "outfile = f'{data_dir}/{movie_name}.json'"
   ]
  },
  {
   "cell_type": "markdown",
   "metadata": {},
   "source": [
    "## Extract frames"
   ]
  },
  {
   "cell_type": "code",
   "execution_count": 44,
   "metadata": {},
   "outputs": [
    {
     "data": {
      "text/plain": [
       "CompletedProcess(args=['mkdir -p data/day-night'], returncode=0)"
      ]
     },
     "execution_count": 44,
     "metadata": {},
     "output_type": "execute_result"
    }
   ],
   "source": [
    "import subprocess\n",
    "\n",
    "subprocess.run([f'mkdir -p {frames_dir}'], shell=True, check=True)"
   ]
  },
  {
   "cell_type": "code",
   "execution_count": 45,
   "metadata": {},
   "outputs": [
    {
     "data": {
      "text/plain": [
       "CompletedProcess(args=['ffmpeg -i data/day-night.mp4 -f image2 -vf fps=1 -s 320*240 data/day-night/%03d.png'], returncode=0)"
      ]
     },
     "execution_count": 45,
     "metadata": {},
     "output_type": "execute_result"
    }
   ],
   "source": [
    "subprocess.run(\n",
    "    [f'ffmpeg -i {data_dir}/{movie} -f image2 -vf fps={fps} -s {frame_width}*{frame_height} {frames_dir}/%03d.png'],\n",
    "    shell=True,\n",
    "    check=True\n",
    ")"
   ]
  },
  {
   "cell_type": "markdown",
   "metadata": {},
   "source": [
    "## Load images in gray scale"
   ]
  },
  {
   "cell_type": "code",
   "execution_count": 46,
   "metadata": {},
   "outputs": [],
   "source": [
    "import imageio\n",
    "import numpy as np\n",
    "import os\n",
    "\n",
    "frame_imgs = os.listdir(frames_dir)\n",
    "\n",
    "frame_imgs.sort(key=str.lower)\n",
    "\n",
    "num_frames = len(frame_imgs)\n",
    "frames = []\n",
    "frames_gray = []\n",
    "\n",
    "# First 5 frames are the same so we start with the 4th frame and extract 365 frames for the whole year\n",
    "for file_name in frame_imgs:\n",
    "    name = f'{frames_dir}/{file_name}'\n",
    "    frame = imageio.imread(name)\n",
    "    frame_gray = imageio.imread(name).flatten()\n",
    "    frames.append(frame)\n",
    "    frames_gray.append(frame_gray)\n",
    "\n",
    "frames = np.asarray(frames).reshape((frames.shape[0], -1, 3))\n",
    "frames_gray = np.asarray(frames_gray)"
   ]
  },
  {
   "cell_type": "markdown",
   "metadata": {},
   "source": [
    "### Remove the text label at the top\n",
    "\n",
    "Only for the precipitation movie."
   ]
  },
  {
   "cell_type": "code",
   "execution_count": null,
   "metadata": {},
   "outputs": [],
   "source": [
    "from matplotlib.pyplot import imshow\n",
    "\n",
    "label_size = [20, 81] # i,j\n",
    "label_pos = [11, 125] # i,j\n",
    "\n",
    "# We set the label to black\n",
    "frames[\n",
    "    :,\n",
    "    label_pos[0]:label_pos[0] + label_size[0],\n",
    "    label_pos[1]:label_pos[1] + label_size[1],\n",
    "    :\n",
    "] = 0\n",
    "\n",
    "imshow(frames[0])\n",
    "\n",
    "frames_gray = np.copy(frames).mean(axis=3).astype(np.uint8).reshape((frames.shape[0], -1))\n",
    "frames = frames.reshape((frames.shape[0], -1, 3))\n",
    "\n",
    "imshow(frames_gray[0])"
   ]
  },
  {
   "cell_type": "markdown",
   "metadata": {},
   "source": [
    "## Compute mean absolute difference between frames"
   ]
  },
  {
   "cell_type": "code",
   "execution_count": 47,
   "metadata": {},
   "outputs": [],
   "source": [
    "import numba\n",
    "from scipy.spatial.distance import pdist, squareform\n",
    "\n",
    "@numba.njit()\n",
    "def mean_absolute_dist(a,b):\n",
    "    return np.sum(np.abs(a - b)) / a.shape[0]\n",
    "\n",
    "dist_gray = squareform(pdist(frames_gray, metric=mean_absolute_dist))"
   ]
  },
  {
   "cell_type": "code",
   "execution_count": 51,
   "metadata": {},
   "outputs": [
    {
     "name": "stdout",
     "output_type": "stream",
     "text": [
      "0, 1, 2, 3, 4, 5, 6, 7, 8, 9, 10, 11, 12, 13, 14, 15, 16, 17, 18, 19, 20, 21, 22, 23, 24, 25, 26, 27, 28, 29, 30, 31, 32, 33, 34, 35, 36, 37, 38, 39, 40, 41, 42, 43, 44, 45, 46, 47, 48, 49, 50, 51, 52, 53, 54, 55, 56, 57, 58, 59, 60, 61, 62, 63, 64, 65, 66, 67, 68, 69, 70, 71, 72, 73, 74, 75, 76, 77, 78, 79, 80, 81, 82, 83, 84, 85, 86, 87, 88, 89, 90, 91, 92, 93, 94, 95, 96, 97, 98, 99, 100, 101, 102, 103, 104, 105, 106, 107, 108, 109, 110, 111, 112, 113, 114, 115, 116, 117, 118, 119, 120, 121, 122, 123, 124, 125, 126, 127, 128, 129, 130, 131, 132, 133, 134, 135, 136, 137, 138, 139, 140, 141, 142, 143, 144, 145, 146, 147, 148, 149, 150, 151, 152, 153, 154, 155, 156, 157, 158, 159, 160, 161, 162, 163, 164, 165, 166, 167, 168, 169, 170, 171, 172, 173, 174, 175, 176, 177, 178, 179, 180, 181, 182, 183, 184, 185, 186, 187, 188, 189, 190, 191, 192, 193, 194, 195, 196, 197, 198, 199, 200, 201, 202, 203, 204, 205, 206, 207, 208, 209, 210, 211, 212, 213, 214, 215, 216, 217, 218, 219, 220, 221, 222, 223, 224, 225, 226, 227, 228, 229, 230, 231, 232, 233, 234, 235, 236, 237, 238, 239, 240, 241, 242, 243, 244, 245, 246, 247, 248, 249, 250, 251, 252, 253, 254, 255, 256, 257, 258, 259, 260, 261, 262, 263, 264, 265, 266, 267, 268, 269, 270, 271, 272, 273, 274, 275, 276, 277, 278, 279, 280, 281, 282, 283, 284, 285, 286, 287, 288, 289, 290, 291, 292, 293, 294, 295, 296, 297, 298, 299, 300, 301, 302, 303, 304, 305, 306, 307, 308, 309, 310, 311, 312, 313, 314, 315, 316, 317, 318, 319, 320, 321, 322, 323, 324, 325, 326, 327, 328, 329, 330, 331, 332, 333, 334, 335, 336, 337, 338, 339, 340, 341, 342, 343, 344, 345, 346, 347, 348, 349, 350, 351, 352, 353, 354, 355, 356, 357, 358, 359, 360, 361, 362, 363, 364, done!\n"
     ]
    }
   ],
   "source": [
    "def hue(v):\n",
    "    cmax = v.max(axis=1)\n",
    "    cmin = v.min(axis=1)\n",
    "    delta = (cmax - cmin).astype(np.float64)\n",
    "    \n",
    "    cmax_r = cmax==v[:, 0]\n",
    "    cmax_g = cmax==v[:, 1]\n",
    "    cmax_b = cmax==v[:, 2]\n",
    "    \n",
    "    x = np.zeros_like(v[:, 0]).astype(np.float64)\n",
    "    x[cmax_r] = v[cmax_r, 1] - v[cmax_r, 2]\n",
    "    x[cmax_g] = v[cmax_g, 2] - v[cmax_g, 0]\n",
    "    x[cmax_b] = v[cmax_b, 0] - v[cmax_b, 1]\n",
    "    \n",
    "    x = np.divide(x, delta, out=np.zeros_like(x), where=delta!=0)\n",
    "    \n",
    "    x[cmax_r] %= 6\n",
    "    x[cmax_g] += 2\n",
    "    x[cmax_b] += 4\n",
    "    \n",
    "    return x\n",
    "\n",
    "def lightness(v):\n",
    "    cmax = v.max(axis=1)\n",
    "    cmin = v.min(axis=1)\n",
    "    return (cmax + cmin) / 2.0\n",
    "\n",
    "def saturation(v):\n",
    "    cmax = v.max(axis=1)\n",
    "    cmin = v.min(axis=1)\n",
    "    chroma = (cmax - cmin).astype(np.float64)\n",
    "    light = lightness(v)\n",
    "    light = (1 - np.abs(2 * light - 1))\n",
    "    return np.divide(chroma, light, out=np.zeros_like(chroma), where=light!=0)\n",
    "\n",
    "def hsl_dist(a, b):\n",
    "    a_sat = saturation(a)\n",
    "    b_sat = saturation(b)\n",
    "    a_light = lightness(a)\n",
    "    b_light = lightness(b)\n",
    "    a_hue = hue(a)\n",
    "    b_hue = hue(b)\n",
    "    return (a_sat - b_sat)**2 + (a_light - b_light)**2 + (((a_hue - b_hue) % 6) / 6.0)\n",
    "\n",
    "dist_hsl = np.zeros((num_frames, num_frames))\n",
    "frame_dim = 240*320\n",
    "\n",
    "for i in np.arange(num_frames):\n",
    "    print(f'{i}, ', end='', flush=True)\n",
    "    for j in np.arange(i + 1, num_frames):\n",
    "        dist = np.sum(np.abs(hsl_dist(frames[i], frames[j]))) / frame_dim\n",
    "\n",
    "        dist_hsl[i,j] = dist\n",
    "        dist_hsl[j,i] = dist\n",
    "print('done!')"
   ]
  },
  {
   "cell_type": "markdown",
   "metadata": {},
   "source": [
    "## Compute embedding with distance matrix"
   ]
  },
  {
   "cell_type": "code",
   "execution_count": 48,
   "metadata": {},
   "outputs": [],
   "source": [
    "from umap import UMAP\n",
    "from sklearn.manifold import MDS, TSNE\n",
    "from sklearn.preprocessing import MinMaxScaler\n",
    "\n",
    "mds_gray = MDS(dissimilarity='precomputed', n_jobs=-1).fit_transform(dist_gray)\n",
    "tsne_gray = TSNE(metric='precomputed', n_jobs=-1).fit_transform(dist_gray)\n",
    "umap_gray = UMAP(n_neighbors=60, metric='precomputed').fit_transform(dist_gray)"
   ]
  },
  {
   "cell_type": "code",
   "execution_count": null,
   "metadata": {},
   "outputs": [],
   "source": [
    "mds_hsl = MDS(dissimilarity='precomputed', n_jobs=-1).fit_transform(dist_hsl)\n",
    "tsne_hsl = TSNE(metric='precomputed', n_jobs=-1).fit_transform(dist_hsl)\n",
    "umap_hsl = UMAP(n_neighbors=int(num_frames/12), metric='precomputed').fit_transform(dist_hsl)"
   ]
  },
  {
   "cell_type": "markdown",
   "metadata": {},
   "source": [
    "## Scale embeddings\n",
    "\n",
    "To add some padding we scale the data to `[0.1, 0.9]`."
   ]
  },
  {
   "cell_type": "code",
   "execution_count": 49,
   "metadata": {},
   "outputs": [],
   "source": [
    "scaler = MinMaxScaler((0.1, 0.9))\n",
    "\n",
    "mds_scale_gray = scaler.fit_transform(mds_gray)\n",
    "tsne_scale_gray = scaler.fit_transform(tsne_gray)\n",
    "umap_scale_gray = scaler.fit_transform(umap_gray)"
   ]
  },
  {
   "cell_type": "code",
   "execution_count": null,
   "metadata": {},
   "outputs": [],
   "source": [
    "mds_scale_hsl = scaler.fit_transform(mds_hsl)\n",
    "tsne_scale_hsl = scaler.fit_transform(t_sne_hsl)\n",
    "umap_scale_hsl = scaler.fit_transform(u_map_hsl)"
   ]
  },
  {
   "cell_type": "markdown",
   "metadata": {},
   "source": [
    "## Save data"
   ]
  },
  {
   "cell_type": "code",
   "execution_count": 51,
   "metadata": {},
   "outputs": [],
   "source": [
    "data = []\n",
    "\n",
    "for i in range(num_frames):\n",
    "    item = {}\n",
    "    item['src'] = f'{frames_dir}/{frame_imgs[i]}'\n",
    "    item['mds_gray'] = mds_scale_gray[i].tolist()\n",
    "    item['tsne_gray'] = tsne_scale_gray[i].tolist()\n",
    "    item['umap_gray'] = umap_scale_gray[i].tolist()\n",
    "    data.append(item)"
   ]
  },
  {
   "cell_type": "code",
   "execution_count": null,
   "metadata": {},
   "outputs": [],
   "source": [
    "for item in data:\n",
    "    item['mds_hsl'] = mds_scale_hsl[i].tolist()\n",
    "    item['tsne_hsl'] = tsne_scale_hsl[i].tolist()\n",
    "    item['umap_hsl'] = umap_scale_hsl[i].tolist()"
   ]
  },
  {
   "cell_type": "code",
   "execution_count": 52,
   "metadata": {},
   "outputs": [],
   "source": [
    "import json\n",
    "\n",
    "with open(outfile, 'w') as f:\n",
    "    json.dump(data, f)"
   ]
  },
  {
   "cell_type": "code",
   "execution_count": null,
   "metadata": {},
   "outputs": [],
   "source": []
  }
 ],
 "metadata": {
  "kernelspec": {
   "display_name": "Python 3",
   "language": "python",
   "name": "python3"
  },
  "language_info": {
   "codemirror_mode": {
    "name": "ipython",
    "version": 3
   },
   "file_extension": ".py",
   "mimetype": "text/x-python",
   "name": "python",
   "nbconvert_exporter": "python",
   "pygments_lexer": "ipython3",
   "version": "3.7.6"
  }
 },
 "nbformat": 4,
 "nbformat_minor": 4
}
