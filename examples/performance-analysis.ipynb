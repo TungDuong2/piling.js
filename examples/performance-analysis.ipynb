{
 "cells": [
  {
   "cell_type": "markdown",
   "metadata": {},
   "source": [
    "# Plot Performance Analysis"
   ]
  },
  {
   "cell_type": "code",
   "execution_count": 1,
   "metadata": {},
   "outputs": [],
   "source": [
    "%load_ext autoreload\n",
    "%autoreload 2\n",
    "%matplotlib inline"
   ]
  },
  {
   "cell_type": "code",
   "execution_count": 47,
   "metadata": {},
   "outputs": [],
   "source": [
    "import json\n",
    "import matplotlib.pyplot as plt\n",
    "import numpy as np\n",
    "import pandas as pd\n",
    "\n",
    "plt.rcParams['font.family'] = 'sans-serif'\n",
    "plt.rcParams['font.sans-serif'] = 'Roboto Condensed'"
   ]
  },
  {
   "cell_type": "code",
   "execution_count": 3,
   "metadata": {},
   "outputs": [],
   "source": [
    "sizes = [200, 500, 1000, 2000, 5000]\n",
    "repeats = 10"
   ]
  },
  {
   "cell_type": "markdown",
   "metadata": {},
   "source": [
    "## Animation FPS"
   ]
  },
  {
   "cell_type": "code",
   "execution_count": 70,
   "metadata": {},
   "outputs": [],
   "source": [
    "animation_fps = pd.read_table('data/performance-analysis/animation-fps.csv', sep=',', skipinitialspace=True)\n",
    "\n",
    "scroll_fps_mean = np.array([\n",
    "  animation_fps['scroll200'].mean(),\n",
    "  animation_fps['scroll500'].mean(),\n",
    "  animation_fps['scroll1000'].mean(),\n",
    "  animation_fps['scroll2000'].mean(),\n",
    "  animation_fps['scroll5000'].mean()\n",
    "])\n",
    "scroll_fps_std = np.array([\n",
    "  animation_fps['scroll200'].std(),\n",
    "  animation_fps['scroll500'].std(),\n",
    "  animation_fps['scroll1000'].std(),\n",
    "  animation_fps['scroll2000'].std(),\n",
    "  animation_fps['scroll5000'].std()\n",
    "])\n",
    "\n",
    "panzoom_fps_mean = np.array([\n",
    "  animation_fps['panzoom200'].mean(),\n",
    "  animation_fps['panzoom500'].mean(),\n",
    "  animation_fps['panzoom1000'].mean(),\n",
    "  animation_fps['panzoom2000'].mean(),\n",
    "  animation_fps['panzoom5000'].mean()\n",
    "])\n",
    "panzoom_fps_std = np.array([\n",
    "  animation_fps['panzoom200'].std(),\n",
    "  animation_fps['panzoom500'].std(),\n",
    "  animation_fps['panzoom1000'].std(),\n",
    "  animation_fps['panzoom2000'].std(),\n",
    "  animation_fps['panzoom5000'].std()\n",
    "])\n",
    "\n",
    "arrange_fps_mean = np.array([\n",
    "  animation_fps['arrange200'].mean(),\n",
    "  animation_fps['arrange500'].mean(),\n",
    "  animation_fps['arrange1000'].mean(),\n",
    "  animation_fps['arrange2000'].mean(),\n",
    "  animation_fps['arrange5000'].mean()\n",
    "])\n",
    "arrange_fps_std = np.array([\n",
    "  animation_fps['arrange200'].std(),\n",
    "  animation_fps['arrange500'].std(),\n",
    "  animation_fps['arrange1000'].std(),\n",
    "  animation_fps['arrange2000'].std(),\n",
    "  animation_fps['arrange5000'].std()\n",
    "])\n",
    "\n",
    "lasso_fps_mean = np.array([\n",
    "  animation_fps['lasso200'].mean(),\n",
    "  animation_fps['lasso500'].mean(),\n",
    "  animation_fps['lasso1000'].mean(),\n",
    "  animation_fps['lasso2000'].mean(),\n",
    "  animation_fps['lasso5000'].mean()\n",
    "])\n",
    "lasso_fps_std = np.array([\n",
    "  animation_fps['lasso200'].std(),\n",
    "  animation_fps['lasso500'].std(),\n",
    "  animation_fps['lasso1000'].std(),\n",
    "  animation_fps['lasso2000'].std(),\n",
    "  animation_fps['lasso5000'].std()\n",
    "])"
   ]
  },
  {
   "cell_type": "code",
   "execution_count": 71,
   "metadata": {},
   "outputs": [
    {
     "data": {
      "text/plain": [
       "[]"
      ]
     },
     "execution_count": 71,
     "metadata": {},
     "output_type": "execute_result"
    },
    {
     "data": {
      "image/png": "[encoded data removed]",
      "text/plain": [
       "<Figure size 720x360 with 1 Axes>"
      ]
     },
     "metadata": {
      "needs_background": "light"
     },
     "output_type": "display_data"
    }
   ],
   "source": [
    "fig, ax = plt.subplots(figsize=(10, 5),)\n",
    "\n",
    "idx = np.arange(len(sizes))\n",
    "width = 0.15\n",
    "\n",
    "ax.bar(idx - width * 1.5, scroll_fps_mean, yerr=scroll_fps_std, label='scroll', width=width, color='#c17da5')\n",
    "ax.bar(idx - width * 0.5, panzoom_fps_mean, yerr=panzoom_fps_std, label='pan-zoom', width=width, color='#6fb2e4')\n",
    "ax.bar(idx + width  * 0.5, arrange_fps_mean, yerr=arrange_fps_std, label='arrange', width=width, color='#eee462')\n",
    "ax.bar(idx + width * 1.5, lasso_fps_mean, yerr=lasso_fps_std, label='lasso', width=width, color='#469b76')\n",
    "ax.set_xticklabels(['whatever...'] + sizes)\n",
    "ax.grid(axis='y', color='#8c8c8c', linestyle='--', linewidth=1)\n",
    "ax.set_axisbelow(True)\n",
    "ax.spines['top'].set_visible(False)\n",
    "ax.spines['left'].set_visible(False)\n",
    "ax.spines['right'].set_visible(False)\n",
    "ax.tick_params(axis='both', which='major', labelsize=24)\n",
    "\n",
    "fig.savefig(\n",
    "    'animation-fps.svg',\n",
    "    bbox_inches=\"tight\",\n",
    "    pad_inches=0\n",
    ")\n",
    "\n",
    "ax.plot()"
   ]
  },
  {
   "cell_type": "code",
   "execution_count": 66,
   "metadata": {},
   "outputs": [
    {
     "data": {
      "text/plain": [
       "[]"
      ]
     },
     "execution_count": 66,
     "metadata": {},
     "output_type": "execute_result"
    },
    {
     "data": {
      "image/png": "[encoded data removed]",
      "text/plain": [
       "<Figure size 720x360 with 1 Axes>"
      ]
     },
     "metadata": {
      "needs_background": "light"
     },
     "output_type": "display_data"
    }
   ],
   "source": [
    "fig, ax = plt.subplots(figsize=(10, 5),)\n",
    "\n",
    "idx = np.arange(len(sizes))\n",
    "width = 0.15\n",
    "\n",
    "ax.bar(idx - width * 1.5, scroll_fps_mean, yerr=scroll_fps_std, label='scroll', width=width, color='#c17da5')\n",
    "ax.bar(idx - width * 0.5, panzoom_fps_mean, yerr=panzoom_fps_std, label='pan-zoom', width=width, color='#6fb2e4')\n",
    "ax.bar(idx + width  * 0.5, arrange_fps_mean, yerr=arrange_fps_std, label='arrange', width=width, color='#eee462')\n",
    "ax.bar(idx + width * 1.5, lasso_fps_mean, yerr=lasso_fps_std, label='lasso', width=width, color='#469b76')\n",
    "ax.set_xticklabels(['whatever...'] + sizes)\n",
    "ax.grid(axis='y', color='#8c8c8c', linestyle='--', linewidth=1)\n",
    "ax.set_axisbelow(True)\n",
    "ax.spines['top'].set_visible(False)\n",
    "ax.spines['left'].set_visible(False)\n",
    "ax.spines['right'].set_visible(False)\n",
    "ax.tick_params(axis='both', which='major', labelsize=24)\n",
    "\n",
    "fig.savefig(\n",
    "    'animation-fps.svg',\n",
    "    bbox_inches=\"tight\",\n",
    "    pad_inches=0\n",
    ")\n",
    "\n",
    "ax.plot()"
   ]
  },
  {
   "cell_type": "markdown",
   "metadata": {},
   "source": [
    "## Initialization Times"
   ]
  },
  {
   "cell_type": "code",
   "execution_count": 22,
   "metadata": {},
   "outputs": [
    {
     "data": {
      "text/html": [
       "<div>\n",
       "<style scoped>\n",
       "    .dataframe tbody tr th:only-of-type {\n",
       "        vertical-align: middle;\n",
       "    }\n",
       "\n",
       "    .dataframe tbody tr th {\n",
       "        vertical-align: top;\n",
       "    }\n",
       "\n",
       "    .dataframe thead th {\n",
       "        text-align: right;\n",
       "    }\n",
       "</style>\n",
       "<table border=\"1\" class=\"dataframe\">\n",
       "  <thead>\n",
       "    <tr style=\"text-align: right;\">\n",
       "      <th></th>\n",
       "      <th>photos100</th>\n",
       "      <th>photos200</th>\n",
       "      <th>photos500</th>\n",
       "      <th>photos1000</th>\n",
       "      <th>photos2000</th>\n",
       "      <th>photos5000</th>\n",
       "      <th>drawings100</th>\n",
       "      <th>drawings200</th>\n",
       "      <th>drawings500</th>\n",
       "      <th>drawings1000</th>\n",
       "      <th>drawings2000</th>\n",
       "      <th>drawings5000</th>\n",
       "      <th>matrices100</th>\n",
       "      <th>matrices200</th>\n",
       "      <th>matrices500</th>\n",
       "      <th>matrices1000</th>\n",
       "      <th>matrices2000</th>\n",
       "      <th>matrices5000</th>\n",
       "    </tr>\n",
       "  </thead>\n",
       "  <tbody>\n",
       "    <tr>\n",
       "      <th>0</th>\n",
       "      <td>778.227264</td>\n",
       "      <td>1178.060500</td>\n",
       "      <td>2696.529244</td>\n",
       "      <td>5333.335753</td>\n",
       "      <td>11085.602810</td>\n",
       "      <td>42169.574108</td>\n",
       "      <td>456.015376</td>\n",
       "      <td>594.258018</td>\n",
       "      <td>958.268356</td>\n",
       "      <td>1715.976247</td>\n",
       "      <td>3399.332750</td>\n",
       "      <td>12864.958241</td>\n",
       "      <td>1171.926969</td>\n",
       "      <td>2239.367765</td>\n",
       "      <td>5917.613106</td>\n",
       "      <td>13360.393232</td>\n",
       "      <td>33882.040188</td>\n",
       "      <td>NaN</td>\n",
       "    </tr>\n",
       "    <tr>\n",
       "      <th>1</th>\n",
       "      <td>744.747947</td>\n",
       "      <td>1208.238457</td>\n",
       "      <td>2705.354064</td>\n",
       "      <td>5278.862346</td>\n",
       "      <td>11084.762872</td>\n",
       "      <td>40909.410317</td>\n",
       "      <td>458.596600</td>\n",
       "      <td>588.548742</td>\n",
       "      <td>987.183731</td>\n",
       "      <td>1763.310681</td>\n",
       "      <td>3212.791128</td>\n",
       "      <td>12153.116855</td>\n",
       "      <td>1259.359835</td>\n",
       "      <td>2302.194996</td>\n",
       "      <td>5850.616846</td>\n",
       "      <td>13134.776764</td>\n",
       "      <td>33277.309591</td>\n",
       "      <td>NaN</td>\n",
       "    </tr>\n",
       "    <tr>\n",
       "      <th>2</th>\n",
       "      <td>766.660187</td>\n",
       "      <td>1195.213856</td>\n",
       "      <td>2689.263826</td>\n",
       "      <td>5445.773030</td>\n",
       "      <td>11162.484795</td>\n",
       "      <td>40818.700816</td>\n",
       "      <td>466.567901</td>\n",
       "      <td>585.109458</td>\n",
       "      <td>1019.538533</td>\n",
       "      <td>1714.404114</td>\n",
       "      <td>3225.839923</td>\n",
       "      <td>11999.466833</td>\n",
       "      <td>1342.560932</td>\n",
       "      <td>2238.723713</td>\n",
       "      <td>5987.054163</td>\n",
       "      <td>12977.610784</td>\n",
       "      <td>32260.503761</td>\n",
       "      <td>NaN</td>\n",
       "    </tr>\n",
       "    <tr>\n",
       "      <th>3</th>\n",
       "      <td>758.112699</td>\n",
       "      <td>1182.837780</td>\n",
       "      <td>2605.722050</td>\n",
       "      <td>5351.676190</td>\n",
       "      <td>12348.633686</td>\n",
       "      <td>45548.531884</td>\n",
       "      <td>467.489092</td>\n",
       "      <td>587.500298</td>\n",
       "      <td>964.385740</td>\n",
       "      <td>1618.107283</td>\n",
       "      <td>3280.084865</td>\n",
       "      <td>11745.792496</td>\n",
       "      <td>1276.148534</td>\n",
       "      <td>2380.417549</td>\n",
       "      <td>5877.323857</td>\n",
       "      <td>13144.539120</td>\n",
       "      <td>33483.454851</td>\n",
       "      <td>NaN</td>\n",
       "    </tr>\n",
       "    <tr>\n",
       "      <th>4</th>\n",
       "      <td>772.310664</td>\n",
       "      <td>1194.433183</td>\n",
       "      <td>2635.922119</td>\n",
       "      <td>5343.677181</td>\n",
       "      <td>11179.368912</td>\n",
       "      <td>46754.101520</td>\n",
       "      <td>468.616162</td>\n",
       "      <td>592.109036</td>\n",
       "      <td>941.120864</td>\n",
       "      <td>1596.523430</td>\n",
       "      <td>3345.017993</td>\n",
       "      <td>12858.973706</td>\n",
       "      <td>1255.407611</td>\n",
       "      <td>2441.094851</td>\n",
       "      <td>5969.440812</td>\n",
       "      <td>12809.974817</td>\n",
       "      <td>32945.992737</td>\n",
       "      <td>NaN</td>\n",
       "    </tr>\n",
       "  </tbody>\n",
       "</table>\n",
       "</div>"
      ],
      "text/plain": [
       "    photos100    photos200    photos500   photos1000    photos2000  \\\n",
       "0  778.227264  1178.060500  2696.529244  5333.335753  11085.602810   \n",
       "1  744.747947  1208.238457  2705.354064  5278.862346  11084.762872   \n",
       "2  766.660187  1195.213856  2689.263826  5445.773030  11162.484795   \n",
       "3  758.112699  1182.837780  2605.722050  5351.676190  12348.633686   \n",
       "4  772.310664  1194.433183  2635.922119  5343.677181  11179.368912   \n",
       "\n",
       "     photos5000  drawings100  drawings200  drawings500  drawings1000  \\\n",
       "0  42169.574108   456.015376   594.258018   958.268356   1715.976247   \n",
       "1  40909.410317   458.596600   588.548742   987.183731   1763.310681   \n",
       "2  40818.700816   466.567901   585.109458  1019.538533   1714.404114   \n",
       "3  45548.531884   467.489092   587.500298   964.385740   1618.107283   \n",
       "4  46754.101520   468.616162   592.109036   941.120864   1596.523430   \n",
       "\n",
       "   drawings2000  drawings5000  matrices100  matrices200  matrices500  \\\n",
       "0   3399.332750  12864.958241  1171.926969  2239.367765  5917.613106   \n",
       "1   3212.791128  12153.116855  1259.359835  2302.194996  5850.616846   \n",
       "2   3225.839923  11999.466833  1342.560932  2238.723713  5987.054163   \n",
       "3   3280.084865  11745.792496  1276.148534  2380.417549  5877.323857   \n",
       "4   3345.017993  12858.973706  1255.407611  2441.094851  5969.440812   \n",
       "\n",
       "   matrices1000  matrices2000  matrices5000  \n",
       "0  13360.393232  33882.040188           NaN  \n",
       "1  13134.776764  33277.309591           NaN  \n",
       "2  12977.610784  32260.503761           NaN  \n",
       "3  13144.539120  33483.454851           NaN  \n",
       "4  12809.974817  32945.992737           NaN  "
      ]
     },
     "execution_count": 22,
     "metadata": {},
     "output_type": "execute_result"
    }
   ],
   "source": [
    "load_times = pd.read_table('data/performance-analysis/initialization-times.csv', sep=',', skipinitialspace=True)\n",
    "\n",
    "photos_times_mean = np.array([\n",
    "  load_times['photos200'].mean() / 1000,\n",
    "  load_times['photos500'].mean() / 1000,\n",
    "  load_times['photos1000'].mean() / 1000,\n",
    "  load_times['photos2000'].mean() / 1000,\n",
    "  load_times['photos5000'].mean() / 1000\n",
    "])\n",
    "photos_times_std = np.array([\n",
    "  load_times['photos200'].std() / 1000,\n",
    "  load_times['photos500'].std() / 1000,\n",
    "  load_times['photos1000'].std() / 1000,\n",
    "  load_times['photos2000'].std() / 1000,\n",
    "  load_times['photos5000'].std() / 1000\n",
    "])\n",
    "\n",
    "drawings_times_mean = np.array([\n",
    "  load_times['drawings200'].mean() / 1000,\n",
    "  load_times['drawings500'].mean() / 1000,\n",
    "  load_times['drawings1000'].mean() / 1000,\n",
    "  load_times['drawings2000'].mean() / 1000,\n",
    "  load_times['drawings5000'].mean() / 1000\n",
    "])\n",
    "drawings_times_std = np.array([\n",
    "  load_times['drawings200'].std() / 1000,\n",
    "  load_times['drawings500'].std() / 1000,\n",
    "  load_times['drawings1000'].std() / 1000,\n",
    "  load_times['drawings2000'].std() / 1000,\n",
    "  load_times['drawings5000'].std() / 1000\n",
    "])\n",
    "\n",
    "matrices_times_mean = np.array([\n",
    "  load_times['matrices200'].mean() / 1000,\n",
    "  load_times['matrices500'].mean() / 1000,\n",
    "  load_times['matrices1000'].mean() / 1000,\n",
    "  load_times['matrices2000'].mean() / 1000,\n",
    "  load_times['matrices5000'].mean() / 1000\n",
    "])\n",
    "matrices_times_std = np.array([\n",
    "  load_times['matrices200'].std() / 1000,\n",
    "  load_times['matrices500'].std() / 1000,\n",
    "  load_times['matrices1000'].std() / 1000,\n",
    "  load_times['matrices2000'].std() / 1000,\n",
    "  load_times['matrices5000'].std() / 1000\n",
    "])\n",
    "\n",
    "load_times.head()"
   ]
  },
  {
   "cell_type": "code",
   "execution_count": 61,
   "metadata": {},
   "outputs": [
    {
     "data": {
      "text/plain": [
       "[]"
      ]
     },
     "execution_count": 61,
     "metadata": {},
     "output_type": "execute_result"
    },
    {
     "data": {
      "image/png": "[encoded data removed]",
      "text/plain": [
       "<Figure size 720x360 with 1 Axes>"
      ]
     },
     "metadata": {
      "needs_background": "light"
     },
     "output_type": "display_data"
    }
   ],
   "source": [
    "fig, ax = plt.subplots(figsize=(10, 5),)\n",
    "\n",
    "idx = np.arange(len(sizes))\n",
    "width = 0.2\n",
    "\n",
    "ax.bar(idx - width, photos_times_mean, yerr=photos_times_std, label='photos', width=width, color='#c17da5')\n",
    "ax.bar(idx, drawings_times_mean, yerr=drawings_times_std, label='drawings', width=width, color='#6fb2e4')\n",
    "ax.bar(idx + width, matrices_times_mean, yerr=matrices_times_std, label='matrices', width=width, color='#eee462')\n",
    "ax.set_xticklabels(['whatever...'] + sizes)\n",
    "ax.grid(axis='y', color='#8c8c8c', linestyle='--', linewidth=1)\n",
    "ax.set_axisbelow(True)\n",
    "ax.spines['top'].set_visible(False)\n",
    "ax.spines['left'].set_visible(False)\n",
    "ax.spines['right'].set_visible(False)\n",
    "ax.tick_params(axis='both', which='major', labelsize=24)\n",
    "\n",
    "fig.savefig(\n",
    "    'init-times.svg',\n",
    "    bbox_inches=\"tight\",\n",
    "    pad_inches=0\n",
    ")\n",
    "\n",
    "ax.plot()"
   ]
  },
  {
   "cell_type": "code",
   "execution_count": null,
   "metadata": {},
   "outputs": [],
   "source": []
  }
 ],
 "metadata": {
  "kernelspec": {
   "display_name": "Python 3",
   "language": "python",
   "name": "python3"
  },
  "language_info": {
   "codemirror_mode": {
    "name": "ipython",
    "version": 3
   },
   "file_extension": ".py",
   "mimetype": "text/x-python",
   "name": "python",
   "nbconvert_exporter": "python",
   "pygments_lexer": "ipython3",
   "version": "3.7.6"
  }
 },
 "nbformat": 4,
 "nbformat_minor": 4
}
